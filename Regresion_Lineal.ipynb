{
  "nbformat": 4,
  "nbformat_minor": 0,
  "metadata": {
    "colab": {
      "provenance": [],
      "authorship_tag": "ABX9TyPPggzI+Pd05vzKDWJgfDND",
      "include_colab_link": true
    },
    "kernelspec": {
      "name": "python3",
      "display_name": "Python 3"
    },
    "language_info": {
      "name": "python"
    }
  },
  "cells": [
    {
      "cell_type": "markdown",
      "metadata": {
        "id": "view-in-github",
        "colab_type": "text"
      },
      "source": [
        "<a href=\"https://colab.research.google.com/github/juansraigosoi-ecci/Regresion_Lineal./blob/main/Regresion_Lineal.ipynb\" target=\"_parent\"><img src=\"https://colab.research.google.com/assets/colab-badge.svg\" alt=\"Open In Colab\"/></a>"
      ]
    },
    {
      "cell_type": "markdown",
      "source": [
        "**Regresion lineal**\n",
        "\n",
        "**integrantes**\n",
        "1. Juan Sebastian Raigoso Ibañez\n",
        "2. Laura Tatiana Gonzalez Garcia\n",
        "3. Rubiel Santiago Garcia Garzon"
      ],
      "metadata": {
        "id": "Ne2RXgMEyAoZ"
      }
    },
    {
      "cell_type": "markdown",
      "source": [
        "**Planteamiento del problema**\n",
        "\n",
        "**Objetivo:**  \n",
        "Predecir la demanda semanal de un SKU para optimizar el reabastecimiento.\n",
        "\n",
        "**Variable dependiente (y):**  \n",
        "- `demanda_semanal` (unidades vendidas por semana).\n",
        "\n",
        "**Variables independientes (X):**  \n",
        "- `precio_cop`: precio unitario en COP.  \n",
        "- `promocion`: indicador (0 = no hay promo, 1 = sí).  \n",
        "- `stock_inicio`: inventario disponible al inicio de la semana.  \n",
        "- `lead_time_dias`: tiempo de reposición del proveedor (días).  \n",
        "- `indice_estacional`: factor de estacionalidad (0.5 baja – 1.5 alta).\n",
        "\n",
        "> Tipo de modelo: **Regresión lineal múltiple**.\n"
      ],
      "metadata": {
        "id": "sQNPmYj6v_J0"
      }
    },
    {
      "cell_type": "markdown",
      "source": [
        "**Parte 2: Preprocesamiento de Datos y *Leakage***\n",
        "Basado en el caso que definiste en la Parte 1:\n",
        "\n",
        "Lista entre 3 y 5 transformaciones que aplicarías a tus datos (ej. imputación de valores faltantes, codificación de variables categóricas, escalado, creación de lags, etc.) y justifica por qué cada una es necesaria.\n",
        "Señala un posible riesgo de data leakage (fuga de datos) en tu plan y explica cómo lo evitarías usando un pipeline de preprocesamiento."
      ],
      "metadata": {
        "id": "kgO91fp4whlr"
      }
    },
    {
      "cell_type": "code",
      "source": [
        "import pandas as pd\n",
        "import numpy as np\n",
        "\n",
        "np.random.seed(42)   # reproducibilidad\n",
        "\n",
        "n = 100\n",
        "precio_cop = np.random.uniform(35000, 50000, size=n)\n",
        "promocion = np.random.choice([0,1], size=n, p=[0.6,0.4])\n",
        "stock_inicio = np.random.uniform(50,200, size=n)\n",
        "lead_time_dias = np.random.randint(5,11, size=n)\n",
        "indice_estacional = np.random.uniform(0.8,1.5, size=n)\n",
        "\n",
        "# Fórmula de demanda con ruido\n",
        "demanda_semanal = (\n",
        "    -0.004 * precio_cop +\n",
        "    50 * promocion +\n",
        "    0.25 * stock_inicio -\n",
        "    3 * lead_time_dias +\n",
        "    80 * indice_estacional +\n",
        "    np.random.normal(scale=10, size=n)\n",
        ").round().astype(int)\n",
        "\n",
        "df = pd.DataFrame({\n",
        "    \"precio_cop\": precio_cop,\n",
        "    \"promocion\": promocion,\n",
        "    \"stock_inicio\": stock_inicio,\n",
        "    \"lead_time_dias\": lead_time_dias,\n",
        "    \"indice_estacional\": indice_estacional,\n",
        "    \"demanda_semanal\": demanda_semanal\n",
        "})\n",
        "\n",
        "df.head()\n"
      ],
      "metadata": {
        "id": "GdxQbH_SwC_O"
      },
      "execution_count": null,
      "outputs": []
    },
    {
      "cell_type": "markdown",
      "source": [
        "**Parte 3: Interpretación y Métricas de Regresión Simple**\n",
        "Para esta sección, elige un caso simple de regresión (puede ser el tuyo o uno hipotético, como predecir la demanda de un producto según su precio).\n",
        "\n",
        "Define claramente las variables\n",
        " y\n",
        " junto con sus unidades (ej.\n",
        ": número de unidades vendidas,\n",
        ": precio en dólares).\n",
        "Supón que entrenas un modelo y obtienes una pendiente de\n",
        ". Escribe una interpretación clara y concisa de este coeficiente en el contexto de tu problema.\n",
        "¿Qué métrica de evaluación usarías (MAE, RMSE, o MAPE) y por qué es la más adecuada para tu caso?\n",
        "Menciona un supuesto del modelo de regresión lineal que validarías (ej. linealidad, homocedasticidad) y explica cómo lo harías (usando un gráfico o una prueba estadística)."
      ],
      "metadata": {
        "id": "SjMLX8cXwmxf"
      }
    },
    {
      "cell_type": "code",
      "source": [
        "import seaborn as sns\n",
        "import matplotlib.pyplot as plt\n",
        "\n",
        "sns.pairplot(df, diag_kind=\"kde\")\n",
        "plt.show()\n",
        "\n",
        "df.describe()\n"
      ],
      "metadata": {
        "id": "UFt7xp9FwJjk"
      },
      "execution_count": null,
      "outputs": []
    },
    {
      "cell_type": "markdown",
      "source": [
        "**Parte 4: Regresión Múltiple y Colinealidad**\n",
        "Volviendo a tu caso de la Parte 1 (con múltiples variables).\n",
        "\n",
        "Escribe el vector de variables\n",
        " y la respuesta\n",
        ".\n",
        "Explica cómo interpretarías el coeficiente de una de tus variables clave (incluyendo unidades y el sentido de la relación: positiva o negativa).\n",
        "Si sospecharas que existe colinealidad entre tus variables, menciona dos acciones que podrías tomar para mitigarla."
      ],
      "metadata": {
        "id": "AT_QO7ryxBwv"
      }
    },
    {
      "cell_type": "code",
      "source": [
        "import statsmodels.api as sm\n",
        "\n",
        "y = df[\"demanda_semanal\"]\n",
        "X = df[[\"precio_cop\",\"promocion\",\"stock_inicio\",\"lead_time_dias\",\"indice_estacional\"]]\n",
        "X = sm.add_constant(X)\n",
        "\n",
        "modelo = sm.OLS(y, X).fit()\n",
        "print(modelo.summary())\n"
      ],
      "metadata": {
        "id": "o8AjMzBzwOqQ"
      },
      "execution_count": null,
      "outputs": []
    },
    {
      "cell_type": "markdown",
      "source": [
        "Interpretación esperada (aprox):\n",
        "\n",
        "R² alto (>0.9).\n",
        "\n",
        "precio_cop y lead_time_dias con signo negativo.\n",
        "\n",
        "promocion, stock_inicio e indice_estacional con signo positivo."
      ],
      "metadata": {
        "id": "eqUziEBiwPwH"
      }
    },
    {
      "cell_type": "markdown",
      "source": [
        "**Parte 5: Interacciones y Multicolinealidad (VIF)**\n",
        "Plantea un caso con una variable\n",
        " y entre 4 y 6 variables\n",
        ". ¿Qué término de interacción entre dos variables podrías añadir al modelo y por qué crees que sería útil?\n",
        "Si al calcular el Factor de Inflación de la Varianza (VIF) para una variable, obtienes un valor alto (ej. > 10), menciona dos acciones que podrías tomar para solucionarlo."
      ],
      "metadata": {
        "id": "6MfdgwuHxLJw"
      }
    },
    {
      "cell_type": "code",
      "source": [
        "from scipy.stats import shapiro\n",
        "import statsmodels.stats.api as sms\n",
        "from statsmodels.stats.stattools import durbin_watson\n",
        "from statsmodels.stats.outliers_influence import variance_inflation_factor\n",
        "\n",
        "resid = modelo.resid\n",
        "fitted = modelo.fittedvalues\n",
        "\n",
        "# 1) Normalidad de residuos\n",
        "sns.histplot(resid, kde=True)\n",
        "plt.title(\"Distribución de los residuos\")\n",
        "plt.show()\n",
        "\n",
        "print(\"Shapiro-Wilk:\", shapiro(resid))\n",
        "\n",
        "# 2) Homocedasticidad (Breusch-Pagan)\n",
        "bp = sms.het_breuschpagan(resid, modelo.model.exog)\n",
        "print(\"Breusch-Pagan (LM, p-valor):\", bp[0], bp[1])\n",
        "\n",
        "# 3) Independencia (Durbin-Watson)\n",
        "print(\"Durbin-Watson:\", durbin_watson(resid))\n",
        "\n",
        "# 4) Colinealidad (VIF)\n",
        "X_vif = X.drop(columns=[\"const\"])\n",
        "vif = pd.DataFrame()\n",
        "vif[\"Variable\"] = X_vif.columns\n",
        "vif[\"VIF\"] = [variance_inflation_factor(X_vif.values, i) for i in range(X_vif.shape[1])]\n",
        "vif\n"
      ],
      "metadata": {
        "id": "reAljDW3wTfb"
      },
      "execution_count": null,
      "outputs": []
    },
    {
      "cell_type": "markdown",
      "source": [
        "**Parte 6: Variables Categóricas e Interacciones**\n",
        "Define una variable categórica para tu caso (puedes inventarla si no la tenías). Elige una de sus categorías como el nivel base o de referencia y justifica tu elección.\n",
        "Crea una interacción entre una variable numérica y la variable categórica que definiste. Explica cómo se interpretaría el coeficiente de esta interacción."
      ],
      "metadata": {
        "id": "nrWDllC2xXHy"
      }
    },
    {
      "cell_type": "markdown",
      "source": [
        "- **Precio (coeficiente negativo):** al aumentar 1 COP, la demanda baja aprox 0.004 uds (≈4 uds cada mil COP).\n",
        "- **Promoción:** incrementa ventas en ~50 unidades.\n",
        "- **Stock al inicio:** cada unidad adicional disponible suma ~0.25 uds vendidas.\n",
        "- **Lead time:** cada día extra de reposición reduce demanda en ~3 uds (posibles quiebres).\n",
        "- **Estacionalidad:** subir un punto (ej. de 1.0 a 2.0) aumenta ventas en ~80 uds.\n",
        "\n",
        "> Todas las variables tienen p-valor < 0.05 → son significativas.\n"
      ],
      "metadata": {
        "id": "aX6tbLTTxgIF"
      }
    },
    {
      "cell_type": "markdown",
      "source": [
        "**Parte 7: Conceptos Clave de Clasificación**\n",
        "Aunque el taller se centra en regresión, estos conceptos son fundamentales en Machine Learning.\n",
        "\n",
        "Explica qué es la curva ROC y para qué se utiliza en un problema de clasificación.\n",
        "Define el concepto de accuracy (exactitud) y menciona una situación en la que podría ser una métrica engañosa.\n",
        "Describe qué es una matriz de confusión y cómo se interpretan sus componentes (Verdaderos Positivos, Falsos Positivos, Verdaderos Negativos, Falsos Negativos)."
      ],
      "metadata": {
        "id": "jT528jEDxhlA"
      }
    },
    {
      "cell_type": "markdown",
      "source": [
        "- El modelo explica bien la demanda (R² alto).  \n",
        "- Las promociones y estacionalidad impulsan ventas; el precio y lead time las reducen.  \n",
        "- Mantener inventarios suficientes y acortar el lead time ayuda a no perder ventas.\n",
        "- Puede ampliarse el modelo con datos reales, variables de marketing o clima.\n"
      ],
      "metadata": {
        "id": "rsuEu108xmN1"
      }
    }
  ]
}